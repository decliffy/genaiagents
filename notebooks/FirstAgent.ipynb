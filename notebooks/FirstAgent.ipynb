{
 "cells": [
  {
   "cell_type": "markdown",
   "metadata": {
    "collapsed": false,
    "jupyter": {
     "outputs_hidden": false
    }
   },
   "source": [
    "# Simple Weather Agent"
   ]
  },
  {
   "cell_type": "markdown",
   "metadata": {
    "collapsed": false,
    "jupyter": {
     "outputs_hidden": false
    }
   },
   "source": [
    "In this notebook, we will create a simple weather agent that can answer questions about the weather. "
   ]
  },
  {
   "cell_type": "code",
   "execution_count": 1,
   "metadata": {
    "collapsed": false,
    "jupyter": {
     "outputs_hidden": false
    }
   },
   "outputs": [],
   "source": [
    "import os\n",
    "import requests\n",
    "\n",
    "from openai import OpenAI\n",
    "from dotenv import load_dotenv"
   ]
  },
  {
   "cell_type": "code",
   "execution_count": 2,
   "metadata": {
    "collapsed": false,
    "jupyter": {
     "outputs_hidden": false
    }
   },
   "outputs": [],
   "source": [
    "_ = load_dotenv()\n",
    "openai_key = os.getenv(\"OPENAI_API_KEY\")\n",
    "weatherstack_key = os.getenv(\"WEATHERSTACK_API_KEY\")\n",
    "\n",
    "llm_name = \"gpt-5-mini\"\n",
    "\n",
    "client = OpenAI(api_key=openai_key)"
   ]
  },
  {
   "cell_type": "markdown",
   "metadata": {},
   "source": [
    "## Tools for AI Agent"
   ]
  },
  {
   "cell_type": "code",
   "execution_count": 22,
   "metadata": {},
   "outputs": [],
   "source": [
    "def get_weather_forecast(city_name):\n",
    "    \"\"\"\n",
    "    Retrieves the weather forecast for a given city using the WeatherStack API.\n",
    "\n",
    "    Args:\n",
    "        city_name (str): The name of the city.\n",
    "\n",
    "    Returns:\n",
    "        dict: The weather forecast data if successful, or an error message.\n",
    "    \"\"\"\n",
    "    base_url = \"http://api.weatherstack.com/current\"\n",
    "    params = {\n",
    "        \"query\": city_name,\n",
    "        \"access_key\": weatherstack_key\n",
    "    }\n",
    "\n",
    "    try:\n",
    "        response = requests.get(base_url, params=params)\n",
    "        response.raise_for_status()  # Raise an HTTPError for bad responses (4xx and 5xx)\n",
    "        json_response = response.json()\n",
    "        response = {\n",
    "            \"Temperature\" : json_response['current']['temperature'],\n",
    "            \"Conditions\" : json_response['current']['weather_descriptions'],\n",
    "            \"Humidity\" : json_response['current']['humidity'],\n",
    "            \"Wind Speed\" : json_response['current']['wind_speed'],\n",
    "            \"Visibility\" : json_response['current']['visibility']\n",
    "        }\n",
    "        return response\n",
    "    except requests.exceptions.RequestException as e:\n",
    "        return {\"error\": str(e)}"
   ]
  },
  {
   "cell_type": "markdown",
   "metadata": {},
   "source": [
    "## AI Agent"
   ]
  },
  {
   "cell_type": "code",
   "execution_count": 4,
   "metadata": {},
   "outputs": [],
   "source": [
    "class WeatherAgent:\n",
    "    def __init__(self, system=\"\"):\n",
    "        self.system = system\n",
    "        self.messages = []\n",
    "        if system:\n",
    "            self.messages.append({\"role\": \"system\", \"content\": system})\n",
    "\n",
    "    def __call__(self, message):\n",
    "        self.messages.append({\"role\": \"user\", \"content\" : message})\n",
    "        result = self.execute()\n",
    "        self.messages.append({\"role\": \"assistant\", \"content\" : result})\n",
    "        return result\n",
    "\n",
    "    def execute(self):\n",
    "        response = client.chat.completions.create(\n",
    "            model=llm_name,\n",
    "            messages=self.messages\n",
    "        )\n",
    "        return response.choices[0].message.content"
   ]
  },
  {
   "cell_type": "markdown",
   "metadata": {},
   "source": [
    "## Prompt"
   ]
  },
  {
   "cell_type": "code",
   "execution_count": 5,
   "metadata": {},
   "outputs": [],
   "source": [
    "prompt = \"\"\"\n",
    "You run in a loop of Thought, Action, PAUSE, Observation.\n",
    "At the end of the loop, you output an Answer.\n",
    "Use Thought to describe your thoughts about the question you have been asked.\n",
    "Use Action to run one of the actions available to you - then return PAUSE.\n",
    "Observation will be the result of running those actions.\n",
    "\n",
    "Your available actions are:\n",
    "\n",
    "city_weather:\n",
    "e.g. city_weather: Mumbai\n",
    "Fetches the weather through an API call and returns the weather observations\n",
    "\n",
    "Example session:\n",
    "\n",
    "Question: What is the forecast for Mumbai today?\n",
    "Thought: I should find the temperature, weather description, humidity and visibility\n",
    "Action: city_weather: Mumbai\n",
    "PAUSE\n",
    "\n",
    "Observation: The temperature in Mumbai is 27 degrees, there are Rain showers expected. Humidity is at 89% and visibility is about 3 kilometers \n",
    "\n",
    "Answer: The temperature in Mumbai is 27 degrees, there are Rain showers expected. Humidity is at 89% and visibility is about 3 kilometers \n",
    "\"\"\".strip()"
   ]
  },
  {
   "cell_type": "code",
   "execution_count": 6,
   "metadata": {},
   "outputs": [],
   "source": [
    "known_actions = {\"city_weather\" : get_weather_forecast}"
   ]
  },
  {
   "cell_type": "markdown",
   "metadata": {},
   "source": [
    "## Interact with Agent"
   ]
  },
  {
   "cell_type": "code",
   "execution_count": 7,
   "metadata": {},
   "outputs": [],
   "source": [
    "weatherAgent = WeatherAgent(system=prompt)"
   ]
  },
  {
   "cell_type": "code",
   "execution_count": 8,
   "metadata": {},
   "outputs": [
    {
     "data": {
      "text/plain": [
       "'Thought: I should find the current temperature, weather description (conditions), humidity, wind, and visibility for Mumbai today.\\nAction: city_weather: Mumbai\\nPAUSE'"
      ]
     },
     "execution_count": 8,
     "metadata": {},
     "output_type": "execute_result"
    }
   ],
   "source": [
    "weatherAgent(\"What is the forecast for Mumbai today?\")"
   ]
  },
  {
   "cell_type": "code",
   "execution_count": 23,
   "metadata": {},
   "outputs": [],
   "source": [
    "response = get_weather_forecast(\"Mumbai\")"
   ]
  },
  {
   "cell_type": "code",
   "execution_count": 24,
   "metadata": {},
   "outputs": [
    {
     "name": "stdout",
     "output_type": "stream",
     "text": [
      "{'Temperature': 27, 'Conditions': ['Mist'], 'Humidity': 89, 'Wind Speed': 29, 'Visibility': 3}\n"
     ]
    }
   ],
   "source": [
    "print(response)"
   ]
  },
  {
   "cell_type": "code",
   "execution_count": null,
   "metadata": {},
   "outputs": [],
   "source": []
  },
  {
   "cell_type": "code",
   "execution_count": null,
   "metadata": {},
   "outputs": [],
   "source": []
  },
  {
   "cell_type": "code",
   "execution_count": null,
   "metadata": {},
   "outputs": [],
   "source": []
  },
  {
   "cell_type": "code",
   "execution_count": 25,
   "metadata": {},
   "outputs": [],
   "source": [
    "next_response = f\"Observation: {response}\""
   ]
  },
  {
   "cell_type": "code",
   "execution_count": 26,
   "metadata": {},
   "outputs": [
    {
     "name": "stdout",
     "output_type": "stream",
     "text": [
      "Observation: {'Temperature': 27, 'Conditions': ['Mist'], 'Humidity': 89, 'Wind Speed': 29, 'Visibility': 3}\n"
     ]
    }
   ],
   "source": [
    "print(next_response)"
   ]
  },
  {
   "cell_type": "raw",
   "metadata": {},
   "source": [
    "response = weatherAgent(next_response)"
   ]
  },
  {
   "cell_type": "code",
   "execution_count": 27,
   "metadata": {},
   "outputs": [
    {
     "name": "stdout",
     "output_type": "stream",
     "text": [
      " Messages--> [{'role': 'system', 'content': 'You run in a loop of Thought, Action, PAUSE, Observation.\\nAt the end of the loop, you output an Answer.\\nUse Thought to describe your thoughts about the question you have been asked.\\nUse Action to run one of the actions available to you - then return PAUSE.\\nObservation will be the result of running those actions.\\n\\nYour available actions are:\\n\\ncity_weather:\\ne.g. city_weather: Mumbai\\nFetches the weather through an API call and returns the weather observations\\n\\nExample session:\\n\\nQuestion: What is the forecast for Mumbai today?\\nThought: I should find the temperature, weather description, humidity and visibility\\nAction: city_weather: Mumbai\\nPAUSE\\n\\nObservation: The temperature in Mumbai is 27 degrees, there are Rain showers expected. Humidity is at 89% and visibility is about 3 kilometers \\n\\nAnswer: The temperature in Mumbai is 27 degrees, there are Rain showers expected. Humidity is at 89% and visibility is about 3 kilometers'}, {'role': 'user', 'content': 'What is the forecast for Mumbai today?'}, {'role': 'assistant', 'content': 'Thought: I should find the current temperature, weather description (conditions), humidity, wind, and visibility for Mumbai today.\\nAction: city_weather: Mumbai\\nPAUSE'}]\n"
     ]
    }
   ],
   "source": [
    "print(f\" Messages--> {weatherAgent.messages}\")"
   ]
  },
  {
   "cell_type": "code",
   "execution_count": null,
   "metadata": {},
   "outputs": [],
   "source": []
  }
 ],
 "metadata": {
  "kernelspec": {
   "display_name": "Python 3 (ipykernel)",
   "language": "python",
   "name": "python3"
  },
  "language_info": {
   "codemirror_mode": {
    "name": "ipython",
    "version": 3
   },
   "file_extension": ".py",
   "mimetype": "text/x-python",
   "name": "python",
   "nbconvert_exporter": "python",
   "pygments_lexer": "ipython3",
   "version": "3.9.4"
  }
 },
 "nbformat": 4,
 "nbformat_minor": 4
}
